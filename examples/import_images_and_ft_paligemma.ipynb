{
 "cells": [
  {
   "cell_type": "markdown",
   "metadata": {},
   "source": [
    "# Import images and fine-tune PaliGemma"
   ]
  },
  {
   "cell_type": "code",
   "execution_count": 1,
   "metadata": {},
   "outputs": [],
   "source": [
    "from dotenv import load_dotenv\n",
    "from pathlib import Path\n",
    "import sys\n",
    "\n",
    "\n",
    "sys.path.append(Path(\"..\").resolve().as_posix())\n",
    "_ = load_dotenv()"
   ]
  },
  {
   "cell_type": "code",
   "execution_count": null,
   "metadata": {},
   "outputs": [],
   "source": [
    "target_images_path = Path(\"fashion_twitter_raw/images\").resolve()\n",
    "target_annotations_path = Path(\"fashion_twitter_raw/fashion_twitter_converted.jsonl\")"
   ]
  },
  {
   "cell_type": "markdown",
   "metadata": {},
   "source": [
    "## Convert annotations"
   ]
  },
  {
   "cell_type": "code",
   "execution_count": null,
   "metadata": {},
   "outputs": [],
   "source": [
    "from pydantic import BaseModel, HttpUrl, Field\n",
    "from typing import List, Optional, Union\n",
    "import requests\n",
    "import json"
   ]
  },
  {
   "cell_type": "code",
   "execution_count": null,
   "metadata": {},
   "outputs": [],
   "source": [
    "raw_tweets_path = Path(\"fashion_twitter_raw/fashion_twitter_raw.jsonl\")\n",
    "\n",
    "\n",
    "class Recommendations(BaseModel):\n",
    "    problems: List[str] = Field(default_factory=list)\n",
    "    fixes: List[str]= Field(default_factory=list)\n",
    "    positives: List[str] = Field(default_factory=list)\n",
    "    advice: Union[str, List[str]] = Field(default_factory=list)\n",
    "    item_description: Union[str, List[str]] = Field(default_factory=list)\n",
    "    wearing_suggestions: Union[str, List[str]] = Field(default_factory=list)\n",
    "\n",
    "\n",
    "class Tweet(BaseModel):\n",
    "    id: str\n",
    "    image_url: HttpUrl\n",
    "    description: Optional[str]\n",
    "    recommendations: Recommendations\n",
    "\n",
    "\n",
    "with raw_tweets_path.open(\"r\") as f:\n",
    "    tweets = [Tweet.model_validate_json(line) for line in f.readlines()]"
   ]
  },
  {
   "cell_type": "code",
   "execution_count": null,
   "metadata": {},
   "outputs": [],
   "source": [
    "for tweet in tweets:\n",
    "    if type(tweet.recommendations.advice) is not list:\n",
    "        tweet.recommendations.advice = [tweet.recommendations.advice]\n",
    "    if type(tweet.recommendations.item_description) is not list:\n",
    "        tweet.recommendations.item_description = [tweet.recommendations.item_description]\n",
    "    if type(tweet.recommendations.wearing_suggestions) is not list:\n",
    "        tweet.recommendations.wearing_suggestions = [tweet.recommendations.wearing_suggestions]"
   ]
  },
  {
   "cell_type": "code",
   "execution_count": null,
   "metadata": {},
   "outputs": [],
   "source": [
    "# 1. merge advice, fixes, wearing suggestions\n",
    "# 2. merge description and item description\n",
    "# 3. convert recommendations into description, strengths, flaws, advice\n",
    "\n",
    "\n",
    "class TargetLabel(BaseModel):\n",
    "    descriptions: List[str] = Field(default_factory=list)\n",
    "    strengths: List[str] = Field(default_factory=list)\n",
    "    flaws: List[str] = Field(default_factory=list)\n",
    "    advice: List[str] = Field(default_factory=list)\n",
    "\n",
    "    @classmethod\n",
    "    def from_tweet(cls, tweet: Tweet) -> \"TargetLabel\":\n",
    "        return cls(\n",
    "            descriptions=[tweet.description] + tweet.recommendations.item_description,\n",
    "            strengths=tweet.recommendations.positives,\n",
    "            flaws=tweet.recommendations.problems,\n",
    "            advice=tweet.recommendations.fixes\n",
    "            + tweet.recommendations.advice\n",
    "            + tweet.recommendations.wearing_suggestions,\n",
    "        )\n",
    "\n",
    "labels = [TargetLabel.from_tweet(tweet) for tweet in tweets]\n",
    "len(labels)"
   ]
  },
  {
   "cell_type": "code",
   "execution_count": null,
   "metadata": {},
   "outputs": [],
   "source": [
    "target_images_path.mkdir(exist_ok=True, parents=True)\n",
    "\n",
    "# Download each image\n",
    "for tweet in tweets:\n",
    "    response = requests.get(tweet.image_url)\n",
    "    if response.status_code == 200:\n",
    "        with target_images_path.joinpath(f\"{tweet.id}.jpg\").open(\"wb\") as f:\n",
    "            f.write(response.content)\n",
    "        print(f\"Downloaded {tweet.id}.jpg\")\n",
    "    else:\n",
    "        print(f\"Failed to download image from {tweet.image_url}\")\n",
    "\n",
    "print(\"All images downloaded.\")"
   ]
  },
  {
   "cell_type": "code",
   "execution_count": null,
   "metadata": {},
   "outputs": [],
   "source": [
    "with target_annotations_path.open(\"w\") as f:\n",
    "    for tweet, label in zip(tweets, labels):\n",
    "        json_dict = {\n",
    "            \"image\": target_images_path.joinpath(f\"{tweet.id}.jpg\").as_posix(),\n",
    "            \"json\": label.model_dump_json(),\n",
    "        }\n",
    "        f.write(f\"{json.dumps(json_dict)}\\n\")"
   ]
  },
  {
   "cell_type": "markdown",
   "metadata": {},
   "source": [
    "## Import dataset"
   ]
  },
  {
   "cell_type": "code",
   "execution_count": null,
   "metadata": {},
   "outputs": [],
   "source": [
    "from training_toolkit import ImageJSONImporter"
   ]
  },
  {
   "cell_type": "code",
   "execution_count": null,
   "metadata": {},
   "outputs": [],
   "source": [
    "image_importer = ImageJSONImporter()\n",
    "dataset = image_importer(\"fashion_twitter\", target_images_path.as_posix(), target_annotations_path.as_posix())\n",
    "dataset.save_to_disk(\"fashion_twitter\")"
   ]
  },
  {
   "cell_type": "markdown",
   "metadata": {},
   "source": [
    "## Train the model"
   ]
  },
  {
   "cell_type": "code",
   "execution_count": 2,
   "metadata": {},
   "outputs": [],
   "source": [
    "from training_toolkit import build_trainer, paligemma_image_preset, image_json_preset"
   ]
  },
  {
   "cell_type": "markdown",
   "metadata": {},
   "source": [
    "A preset is a Pydantic model instance that contains default parameters for training.\n",
    "We can access those parameters directly as properties in order to change them.\n",
    "\n",
    "In order to check what exactly goes into the trainer, we can install Rich."
   ]
  },
  {
   "cell_type": "markdown",
   "metadata": {},
   "source": [
    "Set up the trainer by passing necessary arguments into the `build_trainer` function."
   ]
  },
  {
   "cell_type": "code",
   "execution_count": null,
   "metadata": {},
   "outputs": [],
   "source": [
    "paligemma_image_preset.training_args[\"num_train_epochs\"] = 8\n",
    "paligemma_image_preset.training_args[\"eval_strategy\"] = \"no\"\n",
    "\n",
    "\n",
    "trainer = build_trainer(\n",
    "    **image_json_preset.with_path(\"fashion_twitter\").as_kwargs(apply_train_test_split=False),\n",
    "    **paligemma_image_preset.as_kwargs()\n",
    ")"
   ]
  },
  {
   "cell_type": "code",
   "execution_count": null,
   "metadata": {},
   "outputs": [],
   "source": [
    "trainer.train()"
   ]
  },
  {
   "cell_type": "code",
   "execution_count": null,
   "metadata": {},
   "outputs": [],
   "source": []
  }
 ],
 "metadata": {
  "kernelspec": {
   "display_name": "training_toolkit",
   "language": "python",
   "name": "python3"
  },
  "language_info": {
   "codemirror_mode": {
    "name": "ipython",
    "version": 3
   },
   "file_extension": ".py",
   "mimetype": "text/x-python",
   "name": "python",
   "nbconvert_exporter": "python",
   "pygments_lexer": "ipython3",
   "version": "3.12.0"
  }
 },
 "nbformat": 4,
 "nbformat_minor": 2
}
