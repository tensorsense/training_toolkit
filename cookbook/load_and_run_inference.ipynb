{
 "cells": [
  {
   "cell_type": "code",
   "execution_count": null,
   "metadata": {},
   "outputs": [],
   "source": [
    "from dotenv import load_dotenv\n",
    "from pathlib import Path\n",
    "import sys\n",
    "\n",
    "\n",
    "sys.path.append(Path(\"..\").resolve().as_posix())\n",
    "_ = load_dotenv()"
   ]
  },
  {
   "cell_type": "code",
   "execution_count": null,
   "metadata": {},
   "outputs": [],
   "source": [
    "from peft import AutoPeftModelForCausalLM\n",
    "from transformers import AutoProcessor, PaliGemmaForConditionalGeneration\n",
    "\n",
    "CHECKPOINT_PATH = \"paligemma_2024-07-24_12-18-50/checkpoint-288\"\n",
    "\n",
    "model = AutoPeftModelForCausalLM.from_pretrained(CHECKPOINT_PATH)\n",
    "# model = PaliGemmaForConditionalGeneration.from_pretrained(CHECKPOINT_PATH)\n",
    "# model = PaliGemmaForConditionalGeneration.from_pretrained(\"google/paligemma-3b-mix-224\")\n",
    "processor = AutoProcessor.from_pretrained(CHECKPOINT_PATH)"
   ]
  },
  {
   "cell_type": "code",
   "execution_count": null,
   "metadata": {},
   "outputs": [],
   "source": [
    "from PIL import Image\n",
    "\n",
    "\n",
    "image = Image.open(\"assets/test_image.jpg\")\n",
    "image"
   ]
  },
  {
   "cell_type": "code",
   "execution_count": null,
   "metadata": {},
   "outputs": [],
   "source": [
    "from training_toolkit.src.data_presets.json import JSON_PROMPT, token2json"
   ]
  },
  {
   "cell_type": "code",
   "execution_count": null,
   "metadata": {},
   "outputs": [],
   "source": [
    "inputs = processor(images=Image.open(\"test_image.jpg\"), text=\"extract JSON.\")\n",
    "\n",
    "# Autoregressively generate\n",
    "# We use greedy decoding here, for more fancy methods see https://huggingface.co/blog/how-to-generate\n",
    "generated_ids = model.generate(**inputs, max_new_tokens=256, do_sample=True)\n",
    "\n",
    "# Next we turn each predicted token ID back into a string using the decode method\n",
    "# We chop of the prompt, which consists of image tokens and our text prompt\n",
    "image_token_index = model.config.image_token_index\n",
    "num_image_tokens = len(generated_ids[generated_ids == image_token_index])\n",
    "num_text_tokens = len(processor.tokenizer.encode(JSON_PROMPT))\n",
    "num_prompt_tokens = num_image_tokens + num_text_tokens + 2\n",
    "generated_text = processor.batch_decode(\n",
    "    generated_ids[:, num_prompt_tokens:],\n",
    "    skip_special_tokens=True,\n",
    "    clean_up_tokenization_spaces=False,\n",
    ")[0]\n",
    "\n",
    "generated_json = token2json(generated_text)\n",
    "print(generated_json)"
   ]
  },
  {
   "cell_type": "code",
   "execution_count": null,
   "metadata": {},
   "outputs": [],
   "source": [
    "from training_toolkit.src.common.video_readers import get_video_reader\n",
    "\n",
    "\n",
    "VIDEO_READER = get_video_reader()\n",
    "\n",
    "\n",
    "def process_raw_video(video_path, model, processor, gen_kwargs):\n",
    "    video_clip = VIDEO_READER(video_path, 8)\n",
    "\n",
    "    # Let's use chat template to format the prompt correctly, this time without the caption\n",
    "    conversation = [\n",
    "        {\n",
    "            \"role\": \"user\",\n",
    "            \"content\": [\n",
    "                {\"type\": \"text\", \"text\": \"Provide a detailed caption for this video.\"},\n",
    "                {\"type\": \"video\"},\n",
    "            ],\n",
    "        },\n",
    "    ]\n",
    "\n",
    "    # Set add_generation_prompt to add the \"ASSISTANT: \" at the end\n",
    "    prompt = processor.apply_chat_template(conversation, add_generation_prompt=True)\n",
    "\n",
    "    batch = processor(\n",
    "        text=prompt,\n",
    "        videos=[video_clip],\n",
    "        return_tensors=\"pt\",\n",
    "    ).to(model.device)\n",
    "\n",
    "    out = model.generate(**batch, **gen_kwargs)\n",
    "    generated_text = processor.batch_decode(out, skip_special_tokens=True)\n",
    "\n",
    "    return generated_text\n"
   ]
  },
  {
   "cell_type": "code",
   "execution_count": null,
   "metadata": {},
   "outputs": [],
   "source": [
    "VIDEO_PATH = \"path/to/video.mp4\"\n",
    "\n",
    "process_raw_video(\n",
    "    VIDEO_PATH, model, processor, gen_kwargs={\"max_length\": 256, \"do_sample\": True}\n",
    ")"
   ]
  },
  {
   "cell_type": "code",
   "execution_count": null,
   "metadata": {},
   "outputs": [],
   "source": []
  }
 ],
 "metadata": {
  "kernelspec": {
   "display_name": "training_toolkit",
   "language": "python",
   "name": "python3"
  },
  "language_info": {
   "codemirror_mode": {
    "name": "ipython",
    "version": 3
   },
   "file_extension": ".py",
   "mimetype": "text/x-python",
   "name": "python",
   "nbconvert_exporter": "python",
   "pygments_lexer": "ipython3",
   "version": "3.12.0"
  }
 },
 "nbformat": 4,
 "nbformat_minor": 2
}
