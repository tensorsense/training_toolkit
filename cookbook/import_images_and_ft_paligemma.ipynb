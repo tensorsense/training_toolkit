{
 "cells": [
  {
   "cell_type": "code",
   "execution_count": null,
   "metadata": {},
   "outputs": [],
   "source": [
    "from dotenv import load_dotenv\n",
    "from pathlib import Path\n",
    "import sys\n",
    "\n",
    "\n",
    "sys.path.append(Path(\"..\").resolve().as_posix())\n",
    "_ = load_dotenv()"
   ]
  },
  {
   "cell_type": "code",
   "execution_count": null,
   "metadata": {},
   "outputs": [],
   "source": [
    "target_images_path = Path(\"fashion_twitter_raw/images\").resolve()\n",
    "target_annotations_path = Path(\"fashion_twitter_raw/fashion_twitter_converted.jsonl\")"
   ]
  },
  {
   "cell_type": "markdown",
   "metadata": {},
   "source": [
    "## Convert annotations"
   ]
  },
  {
   "cell_type": "code",
   "execution_count": null,
   "metadata": {},
   "outputs": [],
   "source": [
    "from pydantic import BaseModel, HttpUrl\n",
    "from typing import List, Optional\n",
    "import requests\n",
    "import json"
   ]
  },
  {
   "cell_type": "code",
   "execution_count": null,
   "metadata": {},
   "outputs": [],
   "source": [
    "raw_tweets_path = Path(\"fashion_twitter_raw/fashion_twitter.jsonl\")\n",
    "\n",
    "\n",
    "class Recommendations(BaseModel):\n",
    "    problems: List[str]\n",
    "    fixes: List[str]\n",
    "    positives: Optional[List[str]] = []\n",
    "    advice: str\n",
    "\n",
    "\n",
    "class Tweet(BaseModel):\n",
    "    id: str\n",
    "    image_url: HttpUrl\n",
    "    description: str\n",
    "    recommendations: Recommendations\n",
    "\n",
    "\n",
    "with raw_tweets_path.open(\"r\") as f:\n",
    "    tweets = [Tweet.model_validate_json(line) for line in f.readlines()]"
   ]
  },
  {
   "cell_type": "code",
   "execution_count": null,
   "metadata": {},
   "outputs": [],
   "source": [
    "target_images_path.mkdir(exist_ok=True, parents=True)\n",
    "\n",
    "# Download each image\n",
    "for tweet in tweets:\n",
    "    response = requests.get(tweet.image_url)\n",
    "    if response.status_code == 200:\n",
    "        with target_images_path.joinpath(f\"{tweet.id}.jpg\").open(\"wb\") as f:\n",
    "            f.write(response.content)\n",
    "        print(f\"Downloaded {tweet.id}.jpg\")\n",
    "    else:\n",
    "        print(f\"Failed to download image from {tweet.image_url}\")\n",
    "\n",
    "print(\"All images downloaded.\")"
   ]
  },
  {
   "cell_type": "code",
   "execution_count": null,
   "metadata": {},
   "outputs": [],
   "source": [
    "with target_annotations_path.open(\"w\") as f:\n",
    "    for tweet in tweets:\n",
    "        json_dict = {\n",
    "            \"image\": target_images_path.joinpath(f\"{tweet.id}.jpg\").as_posix(),\n",
    "            \"json\": tweet.model_dump_json(include=[\"description\", \"recommendations\"]),\n",
    "        }\n",
    "        f.write(f\"{json.dumps(json_dict)}\\n\")"
   ]
  },
  {
   "cell_type": "markdown",
   "metadata": {},
   "source": [
    "## Import dataset"
   ]
  },
  {
   "cell_type": "code",
   "execution_count": null,
   "metadata": {},
   "outputs": [],
   "source": [
    "from training_toolkit import ImageJSONImporter"
   ]
  },
  {
   "cell_type": "code",
   "execution_count": null,
   "metadata": {},
   "outputs": [],
   "source": [
    "image_importer = ImageJSONImporter()\n",
    "dataset = image_importer(\"fashion_twitter\", target_images_path.as_posix(), target_annotations_path.as_posix())\n",
    "dataset.save_to_disk(\"fashion_twitter\")"
   ]
  },
  {
   "cell_type": "code",
   "execution_count": null,
   "metadata": {},
   "outputs": [],
   "source": [
    "from training_toolkit import build_trainer, paligemma_image_preset, image_json_preset"
   ]
  },
  {
   "cell_type": "code",
   "execution_count": null,
   "metadata": {},
   "outputs": [],
   "source": [
    "trainer = build_trainer(**image_json_preset.with_path(\"fashion_twitter\").as_kwargs(), **paligemma_image_preset.as_kwargs())"
   ]
  },
  {
   "cell_type": "code",
   "execution_count": null,
   "metadata": {},
   "outputs": [],
   "source": [
    "trainer.train()"
   ]
  },
  {
   "cell_type": "code",
   "execution_count": null,
   "metadata": {},
   "outputs": [],
   "source": []
  }
 ],
 "metadata": {
  "kernelspec": {
   "display_name": "training_toolkit",
   "language": "python",
   "name": "python3"
  },
  "language_info": {
   "codemirror_mode": {
    "name": "ipython",
    "version": 3
   },
   "file_extension": ".py",
   "mimetype": "text/x-python",
   "name": "python",
   "nbconvert_exporter": "python",
   "pygments_lexer": "ipython3",
   "version": "3.12.0"
  }
 },
 "nbformat": 4,
 "nbformat_minor": 2
}
