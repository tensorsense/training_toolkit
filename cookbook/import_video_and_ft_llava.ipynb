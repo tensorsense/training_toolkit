{
 "cells": [
  {
   "cell_type": "code",
   "execution_count": null,
   "metadata": {},
   "outputs": [],
   "source": [
    "from dotenv import load_dotenv\n",
    "from pathlib import Path\n",
    "import sys\n",
    "\n",
    "\n",
    "sys.path.append(Path(\"..\").resolve().as_posix())\n",
    "_ = load_dotenv()"
   ]
  },
  {
   "cell_type": "code",
   "execution_count": null,
   "metadata": {},
   "outputs": [],
   "source": [
    "from training_toolkit import VideoQAImporter"
   ]
  },
  {
   "cell_type": "code",
   "execution_count": null,
   "metadata": {},
   "outputs": [],
   "source": [
    "video_importer = VideoQAImporter()\n",
    "\n",
    "dataset = video_importer(name=\"msrvtt-qa_1000\", video_path=\"/data/msrvtt-qa/videos\", annotation_path=\"/data/msrvtt-qa/qa.json\")\n",
    "dataset.save_to_disk(\"msrvtt-qa_1000\")"
   ]
  },
  {
   "cell_type": "code",
   "execution_count": null,
   "metadata": {},
   "outputs": [],
   "source": [
    "from training_toolkit import build_trainer, llava_next_video_preset, video_qa_preset"
   ]
  },
  {
   "cell_type": "code",
   "execution_count": null,
   "metadata": {},
   "outputs": [],
   "source": [
    "data_preset = video_qa_preset.with_path(\"msrvtt-qa_1000\")\n",
    "\n",
    "trainer = build_trainer(\n",
    "    **data_preset.as_kwargs(),\n",
    "    **llava_next_video_preset.as_kwargs(),\n",
    ")"
   ]
  },
  {
   "cell_type": "code",
   "execution_count": null,
   "metadata": {},
   "outputs": [],
   "source": [
    "trainer.train()"
   ]
  },
  {
   "cell_type": "code",
   "execution_count": null,
   "metadata": {},
   "outputs": [],
   "source": [
    "sample = data_preset.dataset[\"test\"][0]"
   ]
  },
  {
   "cell_type": "code",
   "execution_count": null,
   "metadata": {},
   "outputs": [],
   "source": [
    "from transformers import AutoProcessor, AutoModel\n",
    "from training_toolkit import animate_video_sample\n",
    "from IPython.display import HTML\n",
    "\n",
    "processor = AutoProcessor.from_pretrained(llava_next_video_preset.hf_model_id)\n",
    "model = AutoModel.from_pretrained(llava_next_video_preset.training_args[\"output_dir\"])"
   ]
  },
  {
   "cell_type": "code",
   "execution_count": null,
   "metadata": {},
   "outputs": [],
   "source": [
    "animation = animate_video_sample(sample)\n",
    "\n",
    "# and the caption associated with the video clip\n",
    "print(processor.batch_decode(sample[\"input_ids\"]))\n",
    "\n",
    "HTML(animation.to_html5_video())"
   ]
  },
  {
   "cell_type": "code",
   "execution_count": null,
   "metadata": {},
   "outputs": [],
   "source": [
    "def run_inference(video_clip):\n",
    "    # Let's use chat template to format the prompt correctly, this time without the caption\n",
    "    conversation = [\n",
    "        {\n",
    "            \"role\": \"user\",\n",
    "            \"content\": [\n",
    "                {\"type\": \"text\", \"text\": \"Provide a detailed caption for this video.\"},\n",
    "                {\"type\": \"video\"},\n",
    "            ],\n",
    "        },\n",
    "    ]\n",
    "\n",
    "    # Set add_generation_prompt to add the \"ASSISTANT: \" at the end\n",
    "    prompt = processor.apply_chat_template(conversation, add_generation_prompt=True)\n",
    "\n",
    "    batch = processor(\n",
    "        text=prompt,\n",
    "        videos=None,  # we have a processed video, passing it again to processor causes errors\n",
    "        return_tensors=\"pt\",\n",
    "    ).to(model.device)\n",
    "    video_clip = video_clip.to(model.device)\n",
    "\n",
    "    out = model.generate(\n",
    "        **batch, pixel_values_videos=video_clip, max_length=MAX_LENGTH, do_sample=True\n",
    "    )\n",
    "    generated_text = processor.batch_decode(out, skip_special_tokens=True)\n",
    "    return generated_text"
   ]
  },
  {
   "cell_type": "code",
   "execution_count": null,
   "metadata": {},
   "outputs": [],
   "source": [
    "run_inference(sample[\"pixel_values_videos\"])"
   ]
  }
 ],
 "metadata": {
  "kernelspec": {
   "display_name": "training_toolkit",
   "language": "python",
   "name": "python3"
  },
  "language_info": {
   "codemirror_mode": {
    "name": "ipython",
    "version": 3
   },
   "file_extension": ".py",
   "mimetype": "text/x-python",
   "name": "python",
   "nbconvert_exporter": "python",
   "pygments_lexer": "ipython3",
   "version": "3.12.0"
  }
 },
 "nbformat": 4,
 "nbformat_minor": 2
}
